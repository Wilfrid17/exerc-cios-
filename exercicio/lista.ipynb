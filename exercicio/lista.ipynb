{
 "cells": [
  {
   "cell_type": "markdown",
   "metadata": {},
   "source": [
    "print de listas \n",
    "1opções"
   ]
  },
  {
   "cell_type": "code",
   "execution_count": null,
   "metadata": {},
   "outputs": [],
   "source": [
    "produtos = [\"apple tv\", \"mack\", \"iphone\", \"IPad\", \"pple watch\"]\n",
    "print(produtos)\n",
    "print('\\n'.join(produtos))"
   ]
  },
  {
   "cell_type": "code",
   "execution_count": null,
   "metadata": {},
   "outputs": [],
   "source": [
    "produtos = 'apple tv, mac, iphone, IPad, apple watch, mac book'\n",
    "lista = produtos.split(',')\n",
    "print(produtos)"
   ]
  },
  {
   "cell_type": "markdown",
   "metadata": {},
   "source": [
    "alterações incrementais  de variavwis \n",
    "estrutura:\n",
    "variavel = += outro valor"
   ]
  },
  {
   "cell_type": "code",
   "execution_count": null,
   "metadata": {},
   "outputs": [],
   "source": [
    "lista = ['apple tv', 'mac', 'iphone', 'IPad', 'apple watch', 'mac book']\n",
    "vendas = 1000, 2000, 3200, 4310, 3490, 4982\n",
    "\n",
    "lista = lista + ['televisão']\n",
    "print(lista)\n",
    "i = vendas\n",
    "soma_venda = i\n",
    "print(soma_venda)\n",
    "print(vendas)\n"
   ]
  },
  {
   "cell_type": "code",
   "execution_count": null,
   "metadata": {},
   "outputs": [],
   "source": [
    "soma_venda = vendas\n",
    "soma_venda = vendas + 2500\n",
    "print(soma_venda)"
   ]
  }
 ],
 "metadata": {
  "kernelspec": {
   "display_name": "base",
   "language": "python",
   "name": "python3"
  },
  "language_info": {
   "codemirror_mode": {
    "name": "ipython",
    "version": 3
   },
   "file_extension": ".py",
   "mimetype": "text/x-python",
   "name": "python",
   "nbconvert_exporter": "python",
   "pygments_lexer": "ipython3",
   "version": "3.12.7"
  }
 },
 "nbformat": 4,
 "nbformat_minor": 2
}
